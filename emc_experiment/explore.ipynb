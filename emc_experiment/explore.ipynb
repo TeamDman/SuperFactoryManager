{
 "cells": [
  {
   "cell_type": "code",
   "execution_count": 4,
   "metadata": {},
   "outputs": [
    {
     "name": "stdout",
     "output_type": "stream",
     "text": [
      "Loaded 38680 items from items.json\n"
     ]
    }
   ],
   "source": [
    "\"\"\"\n",
    "use pathlib to load items.json. separately, we want to load all the jsons in jei/*.json into an array. The jei folder contains the recipe json of the categories, and the items.json has a field with the tooltip. We will in the next steps extract the EMC value from the tooltip to create a lookup table and then we will use the recipe jsons to try and find a EMC loop that produces more EMC than it consumes\n",
    "\"\"\"\n",
    "\n",
    "import json\n",
    "from pathlib import Path\n",
    "import polars as pl\n",
    "\n",
    "# Load items.json\n",
    "items_path = Path(\"items.json\")\n",
    "items_data = pl.read_json(items_path)\n",
    "print(f\"Loaded {len(items_data)} items from {items_path}\")"
   ]
  },
  {
   "cell_type": "code",
   "execution_count": 5,
   "metadata": {},
   "outputs": [
    {
     "name": "stderr",
     "output_type": "stream",
     "text": [
      "100%|██████████| 288/288 [00:25<00:00, 11.32it/s]"
     ]
    },
    {
     "name": "stdout",
     "output_type": "stream",
     "text": [
      "Loaded 125584 recipe jsons from jei\n"
     ]
    },
    {
     "name": "stderr",
     "output_type": "stream",
     "text": [
      "\n"
     ]
    }
   ],
   "source": [
    "# Load all jsons in jei/*.json into an array\n",
    "from tqdm import tqdm\n",
    "jei_folder = Path(\"jei\")\n",
    "jei_jsons = []\n",
    "\n",
    "for json_file in tqdm(list(jei_folder.glob(\"*.json\"))):\n",
    "    with open(json_file) as f:\n",
    "        jei_jsons.extend(json.load(f))\n",
    "print(f\"Loaded {len(jei_jsons)} recipe jsons from {jei_folder}\")"
   ]
  },
  {
   "cell_type": "code",
   "execution_count": 6,
   "metadata": {},
   "outputs": [
    {
     "ename": "KeyboardInterrupt",
     "evalue": "",
     "output_type": "error",
     "traceback": [
      "\u001b[1;31m---------------------------------------------------------------------------\u001b[0m",
      "\u001b[1;31mKeyboardInterrupt\u001b[0m                         Traceback (most recent call last)",
      "Cell \u001b[1;32mIn[6], line 2\u001b[0m\n\u001b[0;32m      1\u001b[0m \u001b[38;5;28;01mimport\u001b[39;00m \u001b[38;5;21;01mpolars\u001b[39;00m \u001b[38;5;28;01mas\u001b[39;00m \u001b[38;5;21;01mpl\u001b[39;00m\n\u001b[1;32m----> 2\u001b[0m recipes \u001b[38;5;241m=\u001b[39m \u001b[43mpl\u001b[49m\u001b[38;5;241;43m.\u001b[39;49m\u001b[43mDataFrame\u001b[49m\u001b[43m(\u001b[49m\u001b[43mjei_jsons\u001b[49m\u001b[43m)\u001b[49m\n",
      "File \u001b[1;32mc:\\Users\\TeamD\\.conda\\envs\\sfm\\lib\\site-packages\\polars\\dataframe\\frame.py:369\u001b[0m, in \u001b[0;36mDataFrame.__init__\u001b[1;34m(self, data, schema, schema_overrides, strict, orient, infer_schema_length, nan_to_null)\u001b[0m\n\u001b[0;32m    360\u001b[0m     \u001b[38;5;28mself\u001b[39m\u001b[38;5;241m.\u001b[39m_df \u001b[38;5;241m=\u001b[39m dict_to_pydf(\n\u001b[0;32m    361\u001b[0m         data,\n\u001b[0;32m    362\u001b[0m         schema\u001b[38;5;241m=\u001b[39mschema,\n\u001b[1;32m   (...)\u001b[0m\n\u001b[0;32m    365\u001b[0m         nan_to_null\u001b[38;5;241m=\u001b[39mnan_to_null,\n\u001b[0;32m    366\u001b[0m     )\n\u001b[0;32m    368\u001b[0m \u001b[38;5;28;01melif\u001b[39;00m \u001b[38;5;28misinstance\u001b[39m(data, (\u001b[38;5;28mlist\u001b[39m, \u001b[38;5;28mtuple\u001b[39m, Sequence)):\n\u001b[1;32m--> 369\u001b[0m     \u001b[38;5;28mself\u001b[39m\u001b[38;5;241m.\u001b[39m_df \u001b[38;5;241m=\u001b[39m \u001b[43msequence_to_pydf\u001b[49m\u001b[43m(\u001b[49m\n\u001b[0;32m    370\u001b[0m \u001b[43m        \u001b[49m\u001b[43mdata\u001b[49m\u001b[43m,\u001b[49m\n\u001b[0;32m    371\u001b[0m \u001b[43m        \u001b[49m\u001b[43mschema\u001b[49m\u001b[38;5;241;43m=\u001b[39;49m\u001b[43mschema\u001b[49m\u001b[43m,\u001b[49m\n\u001b[0;32m    372\u001b[0m \u001b[43m        \u001b[49m\u001b[43mschema_overrides\u001b[49m\u001b[38;5;241;43m=\u001b[39;49m\u001b[43mschema_overrides\u001b[49m\u001b[43m,\u001b[49m\n\u001b[0;32m    373\u001b[0m \u001b[43m        \u001b[49m\u001b[43mstrict\u001b[49m\u001b[38;5;241;43m=\u001b[39;49m\u001b[43mstrict\u001b[49m\u001b[43m,\u001b[49m\n\u001b[0;32m    374\u001b[0m \u001b[43m        \u001b[49m\u001b[43morient\u001b[49m\u001b[38;5;241;43m=\u001b[39;49m\u001b[43morient\u001b[49m\u001b[43m,\u001b[49m\n\u001b[0;32m    375\u001b[0m \u001b[43m        \u001b[49m\u001b[43minfer_schema_length\u001b[49m\u001b[38;5;241;43m=\u001b[39;49m\u001b[43minfer_schema_length\u001b[49m\u001b[43m,\u001b[49m\n\u001b[0;32m    376\u001b[0m \u001b[43m    \u001b[49m\u001b[43m)\u001b[49m\n\u001b[0;32m    378\u001b[0m \u001b[38;5;28;01melif\u001b[39;00m \u001b[38;5;28misinstance\u001b[39m(data, pl\u001b[38;5;241m.\u001b[39mSeries):\n\u001b[0;32m    379\u001b[0m     \u001b[38;5;28mself\u001b[39m\u001b[38;5;241m.\u001b[39m_df \u001b[38;5;241m=\u001b[39m series_to_pydf(\n\u001b[0;32m    380\u001b[0m         data, schema\u001b[38;5;241m=\u001b[39mschema, schema_overrides\u001b[38;5;241m=\u001b[39mschema_overrides, strict\u001b[38;5;241m=\u001b[39mstrict\n\u001b[0;32m    381\u001b[0m     )\n",
      "File \u001b[1;32mc:\\Users\\TeamD\\.conda\\envs\\sfm\\lib\\site-packages\\polars\\_utils\\construction\\dataframe.py:462\u001b[0m, in \u001b[0;36msequence_to_pydf\u001b[1;34m(data, schema, schema_overrides, strict, orient, infer_schema_length)\u001b[0m\n\u001b[0;32m    459\u001b[0m \u001b[38;5;28;01mif\u001b[39;00m \u001b[38;5;129;01mnot\u001b[39;00m data:\n\u001b[0;32m    460\u001b[0m     \u001b[38;5;28;01mreturn\u001b[39;00m dict_to_pydf({}, schema\u001b[38;5;241m=\u001b[39mschema, schema_overrides\u001b[38;5;241m=\u001b[39mschema_overrides)\n\u001b[1;32m--> 462\u001b[0m \u001b[38;5;28;01mreturn\u001b[39;00m \u001b[43m_sequence_to_pydf_dispatcher\u001b[49m\u001b[43m(\u001b[49m\n\u001b[0;32m    463\u001b[0m \u001b[43m    \u001b[49m\u001b[43mdata\u001b[49m\u001b[43m[\u001b[49m\u001b[38;5;241;43m0\u001b[39;49m\u001b[43m]\u001b[49m\u001b[43m,\u001b[49m\n\u001b[0;32m    464\u001b[0m \u001b[43m    \u001b[49m\u001b[43mdata\u001b[49m\u001b[38;5;241;43m=\u001b[39;49m\u001b[43mdata\u001b[49m\u001b[43m,\u001b[49m\n\u001b[0;32m    465\u001b[0m \u001b[43m    \u001b[49m\u001b[43mschema\u001b[49m\u001b[38;5;241;43m=\u001b[39;49m\u001b[43mschema\u001b[49m\u001b[43m,\u001b[49m\n\u001b[0;32m    466\u001b[0m \u001b[43m    \u001b[49m\u001b[43mschema_overrides\u001b[49m\u001b[38;5;241;43m=\u001b[39;49m\u001b[43mschema_overrides\u001b[49m\u001b[43m,\u001b[49m\n\u001b[0;32m    467\u001b[0m \u001b[43m    \u001b[49m\u001b[43mstrict\u001b[49m\u001b[38;5;241;43m=\u001b[39;49m\u001b[43mstrict\u001b[49m\u001b[43m,\u001b[49m\n\u001b[0;32m    468\u001b[0m \u001b[43m    \u001b[49m\u001b[43morient\u001b[49m\u001b[38;5;241;43m=\u001b[39;49m\u001b[43morient\u001b[49m\u001b[43m,\u001b[49m\n\u001b[0;32m    469\u001b[0m \u001b[43m    \u001b[49m\u001b[43minfer_schema_length\u001b[49m\u001b[38;5;241;43m=\u001b[39;49m\u001b[43minfer_schema_length\u001b[49m\u001b[43m,\u001b[49m\n\u001b[0;32m    470\u001b[0m \u001b[43m\u001b[49m\u001b[43m)\u001b[49m\n",
      "File \u001b[1;32mc:\\Users\\TeamD\\.conda\\envs\\sfm\\lib\\functools.py:889\u001b[0m, in \u001b[0;36msingledispatch.<locals>.wrapper\u001b[1;34m(*args, **kw)\u001b[0m\n\u001b[0;32m    885\u001b[0m \u001b[38;5;28;01mif\u001b[39;00m \u001b[38;5;129;01mnot\u001b[39;00m args:\n\u001b[0;32m    886\u001b[0m     \u001b[38;5;28;01mraise\u001b[39;00m \u001b[38;5;167;01mTypeError\u001b[39;00m(\u001b[38;5;124mf\u001b[39m\u001b[38;5;124m'\u001b[39m\u001b[38;5;132;01m{\u001b[39;00mfuncname\u001b[38;5;132;01m}\u001b[39;00m\u001b[38;5;124m requires at least \u001b[39m\u001b[38;5;124m'\u001b[39m\n\u001b[0;32m    887\u001b[0m                     \u001b[38;5;124m'\u001b[39m\u001b[38;5;124m1 positional argument\u001b[39m\u001b[38;5;124m'\u001b[39m)\n\u001b[1;32m--> 889\u001b[0m \u001b[38;5;28;01mreturn\u001b[39;00m dispatch(args[\u001b[38;5;241m0\u001b[39m]\u001b[38;5;241m.\u001b[39m\u001b[38;5;18m__class__\u001b[39m)(\u001b[38;5;241m*\u001b[39margs, \u001b[38;5;241m*\u001b[39m\u001b[38;5;241m*\u001b[39mkw)\n",
      "File \u001b[1;32mc:\\Users\\TeamD\\.conda\\envs\\sfm\\lib\\site-packages\\polars\\_utils\\construction\\dataframe.py:714\u001b[0m, in \u001b[0;36m_sequence_of_dict_to_pydf\u001b[1;34m(first_element, data, schema, schema_overrides, strict, infer_schema_length, **kwargs)\u001b[0m\n\u001b[0;32m    711\u001b[0m \u001b[38;5;28;01mif\u001b[39;00m tz_overrides:\n\u001b[0;32m    712\u001b[0m     schema_overrides \u001b[38;5;241m=\u001b[39m {\u001b[38;5;241m*\u001b[39m\u001b[38;5;241m*\u001b[39mschema_overrides, \u001b[38;5;241m*\u001b[39m\u001b[38;5;241m*\u001b[39mtz_overrides}\n\u001b[1;32m--> 714\u001b[0m pydf \u001b[38;5;241m=\u001b[39m \u001b[43mPyDataFrame\u001b[49m\u001b[38;5;241;43m.\u001b[39;49m\u001b[43mfrom_dicts\u001b[49m\u001b[43m(\u001b[49m\n\u001b[0;32m    715\u001b[0m \u001b[43m    \u001b[49m\u001b[43mdata\u001b[49m\u001b[43m,\u001b[49m\n\u001b[0;32m    716\u001b[0m \u001b[43m    \u001b[49m\u001b[43mdicts_schema\u001b[49m\u001b[43m,\u001b[49m\n\u001b[0;32m    717\u001b[0m \u001b[43m    \u001b[49m\u001b[43mschema_overrides\u001b[49m\u001b[43m,\u001b[49m\n\u001b[0;32m    718\u001b[0m \u001b[43m    \u001b[49m\u001b[43mstrict\u001b[49m\u001b[38;5;241;43m=\u001b[39;49m\u001b[43mstrict\u001b[49m\u001b[43m,\u001b[49m\n\u001b[0;32m    719\u001b[0m \u001b[43m    \u001b[49m\u001b[43minfer_schema_length\u001b[49m\u001b[38;5;241;43m=\u001b[39;49m\u001b[43minfer_schema_length\u001b[49m\u001b[43m,\u001b[49m\n\u001b[0;32m    720\u001b[0m \u001b[43m\u001b[49m\u001b[43m)\u001b[49m\n\u001b[0;32m    722\u001b[0m \u001b[38;5;66;03m# TODO: we can remove this `schema_overrides` block completely\u001b[39;00m\n\u001b[0;32m    723\u001b[0m \u001b[38;5;66;03m#  once https://github.com/pola-rs/polars/issues/11044 is fixed\u001b[39;00m\n\u001b[0;32m    724\u001b[0m \u001b[38;5;28;01mif\u001b[39;00m schema_overrides:\n",
      "File \u001b[1;32mc:\\Users\\TeamD\\.conda\\envs\\sfm\\lib\\site-packages\\polars\\series\\series.py:292\u001b[0m, in \u001b[0;36mSeries.__init__\u001b[1;34m(self, name, values, dtype, strict, nan_to_null)\u001b[0m\n\u001b[0;32m    289\u001b[0m         \u001b[38;5;28;01mraise\u001b[39;00m \u001b[38;5;167;01mTypeError\u001b[39;00m(msg)\n\u001b[0;32m    291\u001b[0m \u001b[38;5;28;01mif\u001b[39;00m \u001b[38;5;28misinstance\u001b[39m(values, Sequence):\n\u001b[1;32m--> 292\u001b[0m     \u001b[38;5;28mself\u001b[39m\u001b[38;5;241m.\u001b[39m_s \u001b[38;5;241m=\u001b[39m \u001b[43msequence_to_pyseries\u001b[49m\u001b[43m(\u001b[49m\n\u001b[0;32m    293\u001b[0m \u001b[43m        \u001b[49m\u001b[43mname\u001b[49m\u001b[43m,\u001b[49m\n\u001b[0;32m    294\u001b[0m \u001b[43m        \u001b[49m\u001b[43mvalues\u001b[49m\u001b[43m,\u001b[49m\n\u001b[0;32m    295\u001b[0m \u001b[43m        \u001b[49m\u001b[43mdtype\u001b[49m\u001b[38;5;241;43m=\u001b[39;49m\u001b[43mdtype\u001b[49m\u001b[43m,\u001b[49m\n\u001b[0;32m    296\u001b[0m \u001b[43m        \u001b[49m\u001b[43mstrict\u001b[49m\u001b[38;5;241;43m=\u001b[39;49m\u001b[43mstrict\u001b[49m\u001b[43m,\u001b[49m\n\u001b[0;32m    297\u001b[0m \u001b[43m        \u001b[49m\u001b[43mnan_to_null\u001b[49m\u001b[38;5;241;43m=\u001b[39;49m\u001b[43mnan_to_null\u001b[49m\u001b[43m,\u001b[49m\n\u001b[0;32m    298\u001b[0m \u001b[43m    \u001b[49m\u001b[43m)\u001b[49m\n\u001b[0;32m    300\u001b[0m \u001b[38;5;28;01melif\u001b[39;00m values \u001b[38;5;129;01mis\u001b[39;00m \u001b[38;5;28;01mNone\u001b[39;00m:\n\u001b[0;32m    301\u001b[0m     \u001b[38;5;28mself\u001b[39m\u001b[38;5;241m.\u001b[39m_s \u001b[38;5;241m=\u001b[39m sequence_to_pyseries(name, [], dtype\u001b[38;5;241m=\u001b[39mdtype)\n",
      "File \u001b[1;32mc:\\Users\\TeamD\\.conda\\envs\\sfm\\lib\\site-packages\\polars\\_utils\\construction\\series.py:294\u001b[0m, in \u001b[0;36msequence_to_pyseries\u001b[1;34m(name, values, dtype, strict, nan_to_null)\u001b[0m\n\u001b[0;32m    291\u001b[0m     \u001b[38;5;28;01mexcept\u001b[39;00m \u001b[38;5;167;01mRuntimeError\u001b[39;00m:\n\u001b[0;32m    292\u001b[0m         \u001b[38;5;28;01mreturn\u001b[39;00m PySeries\u001b[38;5;241m.\u001b[39mnew_from_any_values(name, values, strict\u001b[38;5;241m=\u001b[39mstrict)\n\u001b[1;32m--> 294\u001b[0m \u001b[38;5;28;01mreturn\u001b[39;00m \u001b[43m_construct_series_with_fallbacks\u001b[49m\u001b[43m(\u001b[49m\n\u001b[0;32m    295\u001b[0m \u001b[43m    \u001b[49m\u001b[43mconstructor\u001b[49m\u001b[43m,\u001b[49m\u001b[43m \u001b[49m\u001b[43mname\u001b[49m\u001b[43m,\u001b[49m\u001b[43m \u001b[49m\u001b[43mvalues\u001b[49m\u001b[43m,\u001b[49m\u001b[43m \u001b[49m\u001b[43mdtype\u001b[49m\u001b[43m,\u001b[49m\u001b[43m \u001b[49m\u001b[43mstrict\u001b[49m\u001b[38;5;241;43m=\u001b[39;49m\u001b[43mstrict\u001b[49m\n\u001b[0;32m    296\u001b[0m \u001b[43m\u001b[49m\u001b[43m)\u001b[49m\n",
      "\u001b[1;31mKeyboardInterrupt\u001b[0m: "
     ]
    }
   ],
   "source": [
    "recipes = pl.DataFrame(jei_jsons)\n",
    "\n",
    "items_data = items_data.with_column(\n",
    "    pl.col(\"tooltip\").apply(get_emc_from_tooltip).alias(\"emc\")\n",
    ")"
   ]
  },
  {
   "cell_type": "code",
   "execution_count": null,
   "metadata": {},
   "outputs": [],
   "source": [
    "# Define the get_emc_from_tooltip() function\n",
    "def get_emc_string_from_tooltip(tooltip: str) -> str | None:\n",
    "    for line in tooltip.split(\"\\n\"):\n",
    "        #  EMC: 32 (✗)\n",
    "        if line.startswith(\"EMC: \"):\n",
    "            emc = line.split(\":\")[1].replace(\" (✗)\", \"\")\n",
    "            return emc\n",
    "    return None\n",
    "\n",
    "\n",
    "# Test the function with the provided test_tooltip\n",
    "test_tooltip = items_data[0][\"tooltip\"]\n",
    "print(test_tooltip)\n",
    "test_emc = get_emc_string_from_tooltip(test_tooltip)\n",
    "print(test_emc, type(test_emc))"
   ]
  },
  {
   "cell_type": "code",
   "execution_count": null,
   "metadata": {},
   "outputs": [],
   "source": [
    "seen = set()\n",
    "for item in items_data:\n",
    "    emc_string = get_emc_string_from_tooltip(item[\"tooltip\"])\n",
    "    if emc_string is not None:\n",
    "        if not emc_string in seen:\n",
    "            seen.add(emc_string)\n",
    "            print(emc_string)"
   ]
  },
  {
   "cell_type": "code",
   "execution_count": null,
   "metadata": {},
   "outputs": [],
   "source": [
    "seen_words = set()\n",
    "import re\n",
    "for x in seen:\n",
    "    for word in x.split(\" \"):\n",
    "        if re.match(r\"^[\\d,\\.]+$\", word):\n",
    "            continue\n",
    "        seen_words.add(word)\n",
    "print(seen_words)"
   ]
  },
  {
   "cell_type": "code",
   "execution_count": null,
   "metadata": {},
   "outputs": [],
   "source": [
    "number_words = {\n",
    "    \"Million\": 1_000_000,\n",
    "    \"Billion\": 1_000_000_000,\n",
    "    \"Trillion\": 1_000_000_000_000,\n",
    "    \"Quadrillion\": 1_000_000_000_000_000,\n",
    "    \"Quintillion\": 1_000_000_000_000_000_000,\n",
    "}\n"
   ]
  },
  {
   "cell_type": "code",
   "execution_count": null,
   "metadata": {},
   "outputs": [],
   "source": [
    "def get_emc_value_from_string(emc_string: str) -> float:\n",
    "    emc_string = emc_string.replace(\",\", \"\")\n",
    "    for word, value in number_words.items():\n",
    "        if word in emc_string:\n",
    "            return value * float(emc_string.replace(word, \"\"))\n",
    "    return float(emc_string)\n",
    "print(get_emc_value_from_string(test_emc))\n",
    "print(get_emc_value_from_string(\"1,000.3 Billion\"))"
   ]
  },
  {
   "cell_type": "code",
   "execution_count": null,
   "metadata": {},
   "outputs": [],
   "source": [
    "for item in items_data:\n",
    "    try:\n",
    "        emc_string = get_emc_string_from_tooltip(item[\"tooltip\"])\n",
    "        if emc_string is not None:\n",
    "            item[\"emc\"] = get_emc_value_from_string(emc_string)\n",
    "        else:\n",
    "            item[\"emc\"] = None\n",
    "    except Exception as e:\n",
    "        item[\"emc\"] = None\n",
    "        print(f\"Failed to get emc for {item['id']} with emc string '{emc_string}' ({type(emc_string)})\", e)"
   ]
  },
  {
   "cell_type": "code",
   "execution_count": null,
   "metadata": {},
   "outputs": [],
   "source": [
    "sorted_values = sorted([(item[\"emc\"], item[\"id\"]) for item in items_data if item[\"emc\"] is not None], reverse=True)\n",
    "\n",
    "# Print the top 3 and bottom 3 non-None values\n",
    "print(\"Top 3 non-None values:\")\n",
    "print(sorted_values[:3])\n",
    "print(\"Bottom 3 non-None values:\")\n",
    "print(sorted_values[-3:])"
   ]
  },
  {
   "cell_type": "code",
   "execution_count": null,
   "metadata": {},
   "outputs": [],
   "source": [
    "jei_jsons[0]"
   ]
  },
  {
   "cell_type": "code",
   "execution_count": null,
   "metadata": {},
   "outputs": [],
   "source": [
    "# [x for x in jei_jsons if x[\"categoryTitle\"] == \"Crafting\" and any(True for i in x[\"ingredients\"] if i[\"role\"] == \"INPUT\" and i[\"ingredientId\"] == \"minecraft:blaze_rods\")]\n",
    "for recipe in jei_jsons:\n",
    "    if recipe[\"categoryTitle\"] == \"Crafting\":\n",
    "        for ingredient in recipe[\"ingredients\"]:\n",
    "            if ingredient[\"role\"] == \"INPUT\": # and ingredient[\"ingredientId\"] == \"minecraft:blaze_rods\":\n",
    "                print(recipe)\n",
    "                raise \"stop\""
   ]
  }
 ],
 "metadata": {
  "kernelspec": {
   "display_name": "sfm",
   "language": "python",
   "name": "python3"
  },
  "language_info": {
   "codemirror_mode": {
    "name": "ipython",
    "version": 3
   },
   "file_extension": ".py",
   "mimetype": "text/x-python",
   "name": "python",
   "nbconvert_exporter": "python",
   "pygments_lexer": "ipython3",
   "version": "3.10.12"
  }
 },
 "nbformat": 4,
 "nbformat_minor": 2
}
